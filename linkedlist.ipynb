{
  "nbformat": 4,
  "nbformat_minor": 0,
  "metadata": {
    "colab": {
      "name": "linkedlist.ipynb",
      "provenance": [],
      "collapsed_sections": []
    },
    "kernelspec": {
      "name": "python3",
      "display_name": "Python 3"
    }
  },
  "cells": [
    {
      "cell_type": "code",
      "metadata": {
        "id": "Vz6TNlWSWCuH",
        "colab_type": "code",
        "colab": {}
      },
      "source": [
        "class node:\n",
        "\n",
        "  def __init__(self,element):\n",
        "    self.element = element\n",
        "    self.next = None\n",
        "    self.last = None\n",
        "\n",
        "  def __str__(self):\n",
        "    return str(self.element)\n",
        "  \n",
        "  def __add__(self,add_node):\n",
        "    new_node = node(self.element+add_node.element)\n",
        "    return new_node\n",
        "\n",
        "  def __eq__(self,comparison_node):\n",
        "    if self.element == comparison_node.element:\n",
        "      print('chou')\n",
        "      return True\n",
        "    else:\n",
        "      return False"
      ],
      "execution_count": null,
      "outputs": []
    },
    {
      "cell_type": "code",
      "metadata": {
        "id": "6sAaX8AuzC3r",
        "colab_type": "code",
        "colab": {
          "base_uri": "https://localhost:8080/",
          "height": 50
        },
        "outputId": "1069a866-ce4c-40d6-898f-dab06b9a2b2d"
      },
      "source": [
        "node1 =  node(4)\n",
        "node2 = node(4)\n",
        "node1==node2"
      ],
      "execution_count": null,
      "outputs": [
        {
          "output_type": "stream",
          "text": [
            "chou\n"
          ],
          "name": "stdout"
        },
        {
          "output_type": "execute_result",
          "data": {
            "text/plain": [
              "True"
            ]
          },
          "metadata": {
            "tags": []
          },
          "execution_count": 30
        }
      ]
    },
    {
      "cell_type": "code",
      "metadata": {
        "id": "K2JFUijI4qGz",
        "colab_type": "code",
        "colab": {}
      },
      "source": [
        "class node:\n",
        "\n",
        "  def __init__(self,element):\n",
        "    self.element = element\n",
        "    self.next = None\n",
        "    \n",
        "  def __str__(self):\n",
        "    return str(self.element)"
      ],
      "execution_count": null,
      "outputs": []
    },
    {
      "cell_type": "code",
      "metadata": {
        "id": "VmAT9cDx5wPI",
        "colab_type": "code",
        "colab": {}
      },
      "source": [
        "class linkedlist:\n",
        "\n",
        "  def __init__(self):\n",
        "    self.first = None\n",
        "    self.end = None\n",
        "    self.length = 0\n",
        "  \n",
        "  def printwholelist(self):\n",
        "    target = self.first\n",
        "    for i in range(self.length):\n",
        "      print(target)\n",
        "      target = target.next\n",
        "    \n",
        "  def add_to_start(self,element):\n",
        "    node_new = node(element)\n",
        "    if self.first == None:\n",
        "      self.first = node_new\n",
        "      self.end = node_new\n",
        "    else:\n",
        "      node_new.next = self.first\n",
        "      self.first = node_new\n",
        "    self.length = self.length +1\n",
        "\n",
        "  def add_to_end(self,element):\n",
        "    node_new = node(element)\n",
        "    if self.end == None:\n",
        "      self.first = node_new\n",
        "      self.end = node_new\n",
        "    else:\n",
        "      self.end.next = node_new\n",
        "      self.end = node_new\n",
        "    self.length = self.length+1\n",
        "    \n",
        "  def delete_byindex(self,i):\n",
        "    target = self.first\n",
        "    if self.length == 2:\n",
        "      if i == 1:\n",
        "        self.first = target.next\n",
        "      if i == self.length:\n",
        "        for i in range(self.length):\n",
        "          target = target.next\n",
        "        self.end = target\n",
        "        self.end.next = None\n",
        "    elif self.length == 1:\n",
        "      self.first = None\n",
        "      self.end = None\n",
        "    elif i > self.length:\n",
        "      raise ValueError\n",
        "    else:\n",
        "      if i == 1:\n",
        "        self.first = target.next\n",
        "      elif i == self.length:\n",
        "        for i in range(i-2):\n",
        "          target = target.next\n",
        "        self.end = target\n",
        "        self.end.next = None\n",
        "      else:\n",
        "        for i in range(i-2):\n",
        "          target = target.next\n",
        "        target.next = target.next.next\n",
        "      self.length = self.length-1\n",
        "\n",
        "  def add_byindex(self,i,element):\n",
        "    node_new = node(element)\n",
        "    target = self.first\n",
        "    if i ==1:\n",
        "      self.add_to_start(element)\n",
        "    elif i == self.length:\n",
        "      self.add_to_end(element)\n",
        "    else: \n",
        "      for i in range(i-2):\n",
        "        target = target.next\n",
        "      old_ele = target.next\n",
        "      target.next = node_new\n",
        "      node_new.next = old_ele\n",
        "      self.length = self.length+1\n",
        "    \n",
        "  def delete_byelement(self,element):\n",
        "    i = 1\n",
        "    target = self.first\n",
        "    while i < self.length:\n",
        "      if target.element == element:\n",
        "        target = target.next\n",
        "        self.delete_byindex(i)\n",
        "      else:\n",
        "        i = i+1\n",
        "        target = target.next\n",
        "      \n",
        "  def swap_byindex(self,i,j):\n",
        "\n",
        "    target = self.first\n",
        "    for a in range(i-1):\n",
        "      target = target.next\n",
        "    old_ele1 = target.element\n",
        "\n",
        "    self.delete_byindex(i)\n",
        "\n",
        "    target = self.first\n",
        "    for k in range(j-2):\n",
        "      target = target.next\n",
        "    old_ele2 = target.element\n",
        "\n",
        "    self.delete_byindex(j-1) \n",
        "    \n",
        "    self.add_byindex(i,old_ele2)\n",
        "    self.add_byindex(j,old_ele1)\n",
        "\n",
        "  def sort_function(self):\n",
        "    \n",
        "    target = self.first\n",
        " \n",
        "    for i in range(self.length-1):\n",
        "      old_ele = target.element\n",
        "      target = target.next\n",
        "      if old_ele > target.element:\n",
        "        self.swap_byindex(i,i+1)\n",
        "      else:\n",
        "        i = i+1"
      ],
      "execution_count": null,
      "outputs": []
    },
    {
      "cell_type": "code",
      "metadata": {
        "id": "7bBYAhwV-8FT",
        "colab_type": "code",
        "colab": {
          "base_uri": "https://localhost:8080/",
          "height": 118
        },
        "outputId": "62e0706c-b7e9-4cb9-9d08-7d835d6b5090"
      },
      "source": [
        "a = linkedlist()\n",
        "a.add_to_start(3)\n",
        "a.add_to_start(2)\n",
        "a.add_to_start(1)\n",
        "a.add_to_start(4)\n",
        "a.add_to_start(5)\n",
        "a.add_to_start(6)\n",
        "a.sort_function()\n",
        "a.printwholelist()\n"
      ],
      "execution_count": null,
      "outputs": [
        {
          "output_type": "stream",
          "text": [
            "6\n",
            "6\n",
            "6\n",
            "1\n",
            "2\n",
            "3\n"
          ],
          "name": "stdout"
        }
      ]
    },
    {
      "cell_type": "code",
      "metadata": {
        "id": "y7C4TJoE5wEb",
        "colab_type": "code",
        "colab": {
          "base_uri": "https://localhost:8080/",
          "height": 34
        },
        "outputId": "699d3f11-b25e-4e25-dce0-59d7230a37c5"
      },
      "source": [
        "a = 5\n",
        "id(a)"
      ],
      "execution_count": null,
      "outputs": [
        {
          "output_type": "execute_result",
          "data": {
            "text/plain": [
              "10914624"
            ]
          },
          "metadata": {
            "tags": []
          },
          "execution_count": 39
        }
      ]
    },
    {
      "cell_type": "code",
      "metadata": {
        "id": "Wr-Z0IWeb9tf",
        "colab_type": "code",
        "colab": {}
      },
      "source": [
        "class linkedlist:\n",
        "\n",
        "  def __init__(self):\n",
        "    self.first = None\n",
        "    \n",
        "  def add_to_start(self, element):\n",
        "    new_node = node(element)\n",
        "    if self.first == None:\n",
        "      self.first = new_node\n",
        "    else:\n",
        "      new_node.next = self.first\n",
        "      self.first = new_node\n",
        "\n",
        "    def add_to_end(self,element):\n"
      ],
      "execution_count": null,
      "outputs": []
    },
    {
      "cell_type": "code",
      "metadata": {
        "id": "OIKSvMmQWdSn",
        "colab_type": "code",
        "colab": {}
      },
      "source": [
        "node1 = node(1)\n",
        "node2 = node(2)\n",
        "node3 = node(3)\n",
        "node4 = node(4)\n",
        "node5 = node(5)\n",
        "node6 = node(6)"
      ],
      "execution_count": null,
      "outputs": []
    },
    {
      "cell_type": "code",
      "metadata": {
        "id": "lFxc-XQ7Wkt1",
        "colab_type": "code",
        "colab": {}
      },
      "source": [
        "linktest = linkedlist()"
      ],
      "execution_count": null,
      "outputs": []
    },
    {
      "cell_type": "code",
      "metadata": {
        "id": "WFq5wUE4efpR",
        "colab_type": "code",
        "colab": {}
      },
      "source": [
        "linktest.add_to_start(1)\n",
        "linktest.add_to_start(2)\n",
        "linktest.add_to_start(3)\n",
        "linktest.add_to_start(4)\n",
        "linktest.add_to_start(5)"
      ],
      "execution_count": null,
      "outputs": []
    },
    {
      "cell_type": "code",
      "metadata": {
        "id": "J5m0C2ZiWx6K",
        "colab_type": "code",
        "colab": {}
      },
      "source": [
        "def node_val(a):\n",
        "  while a != None:\n",
        "    print(a.element)\n",
        "    a = a.next"
      ],
      "execution_count": null,
      "outputs": []
    },
    {
      "cell_type": "code",
      "metadata": {
        "id": "40JrtmfwXXqc",
        "colab_type": "code",
        "colab": {
          "base_uri": "https://localhost:8080/",
          "height": 104
        },
        "outputId": "3d076c27-adf8-4a5c-c1c2-43fc27d85d19"
      },
      "source": [
        "node_val(linktest.first)"
      ],
      "execution_count": null,
      "outputs": [
        {
          "output_type": "stream",
          "text": [
            "5\n",
            "4\n",
            "3\n",
            "2\n",
            "1\n"
          ],
          "name": "stdout"
        }
      ]
    }
  ]
}